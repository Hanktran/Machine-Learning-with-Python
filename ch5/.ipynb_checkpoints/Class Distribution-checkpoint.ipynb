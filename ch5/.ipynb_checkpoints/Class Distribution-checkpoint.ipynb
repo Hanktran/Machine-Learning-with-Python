{
 "cells": [
  {
   "cell_type": "code",
   "execution_count": 1,
   "metadata": {},
   "outputs": [],
   "source": [
    "# class distribution\n",
    "from pandas import read_csv"
   ]
  },
  {
   "cell_type": "code",
   "execution_count": 2,
   "metadata": {},
   "outputs": [],
   "source": [
    "filename = 'pima-indians-diabetes.data.csv'\n",
    "names = ['preg', 'plas', 'pres', 'skin', 'test', 'mass', 'pedi', 'age', 'class']\n",
    "data = read_csv(filename, names=names)\n",
    "class_counts = data.groupby('class')"
   ]
  },
  {
   "cell_type": "code",
   "execution_count": 3,
   "metadata": {},
   "outputs": [
    {
     "data": {
      "text/plain": [
       "<pandas.core.groupby.generic.DataFrameGroupBy object at 0x000002761CD17470>"
      ]
     },
     "execution_count": 3,
     "metadata": {},
     "output_type": "execute_result"
    }
   ],
   "source": [
    "class_counts"
   ]
  },
  {
   "cell_type": "code",
   "execution_count": 4,
   "metadata": {},
   "outputs": [
    {
     "data": {
      "text/plain": [
       "class\n",
       "0    500\n",
       "1    268\n",
       "dtype: int64"
      ]
     },
     "execution_count": 4,
     "metadata": {},
     "output_type": "execute_result"
    }
   ],
   "source": [
    "class_counts.size()"
   ]
  },
  {
   "cell_type": "code",
   "execution_count": 5,
   "metadata": {},
   "outputs": [],
   "source": [
    "preg_counts = data.groupby('preg').size()"
   ]
  },
  {
   "cell_type": "code",
   "execution_count": 6,
   "metadata": {
    "collapsed": true
   },
   "outputs": [
    {
     "data": {
      "text/plain": [
       "preg\n",
       "0     111\n",
       "1     135\n",
       "2     103\n",
       "3      75\n",
       "4      68\n",
       "5      57\n",
       "6      50\n",
       "7      45\n",
       "8      38\n",
       "9      28\n",
       "10     24\n",
       "11     11\n",
       "12      9\n",
       "13     10\n",
       "14      2\n",
       "15      1\n",
       "17      1\n",
       "dtype: int64"
      ]
     },
     "execution_count": 6,
     "metadata": {},
     "output_type": "execute_result"
    }
   ],
   "source": [
    "preg_counts"
   ]
  },
  {
   "cell_type": "code",
   "execution_count": 8,
   "metadata": {},
   "outputs": [],
   "source": [
    "plas_counts = data.groupby('plas').size()\n",
    "pres_counts = data.groupby('pres').size()\n",
    "skin_counts = data.groupby('skin').size()\n",
    "test_counts = data.groupby('test').size()\n",
    "mass_counts = data.groupby('mass').size()\n",
    "pedi_counts = data.groupby('pedi').size()\n",
    "age_counts = data.groupby('age').size()"
   ]
  },
  {
   "cell_type": "code",
   "execution_count": 9,
   "metadata": {
    "collapsed": true
   },
   "outputs": [
    {
     "data": {
      "text/plain": [
       "plas\n",
       "0       5\n",
       "44      1\n",
       "56      1\n",
       "57      2\n",
       "61      1\n",
       "62      1\n",
       "65      1\n",
       "67      1\n",
       "68      3\n",
       "71      4\n",
       "72      1\n",
       "73      3\n",
       "74      4\n",
       "75      2\n",
       "76      2\n",
       "77      2\n",
       "78      4\n",
       "79      3\n",
       "80      6\n",
       "81      6\n",
       "82      3\n",
       "83      6\n",
       "84     10\n",
       "85      7\n",
       "86      3\n",
       "87      7\n",
       "88      9\n",
       "89      6\n",
       "90     11\n",
       "91      9\n",
       "       ..\n",
       "168     4\n",
       "169     1\n",
       "170     2\n",
       "171     3\n",
       "172     1\n",
       "173     6\n",
       "174     2\n",
       "175     2\n",
       "176     2\n",
       "177     1\n",
       "178     1\n",
       "179     5\n",
       "180     5\n",
       "181     5\n",
       "182     1\n",
       "183     3\n",
       "184     3\n",
       "186     1\n",
       "187     4\n",
       "188     2\n",
       "189     4\n",
       "190     1\n",
       "191     1\n",
       "193     2\n",
       "194     3\n",
       "195     2\n",
       "196     3\n",
       "197     4\n",
       "198     1\n",
       "199     1\n",
       "Length: 136, dtype: int64"
      ]
     },
     "execution_count": 9,
     "metadata": {},
     "output_type": "execute_result"
    }
   ],
   "source": [
    "plas_counts"
   ]
  },
  {
   "cell_type": "code",
   "execution_count": 10,
   "metadata": {
    "collapsed": true
   },
   "outputs": [
    {
     "data": {
      "text/plain": [
       "pres\n",
       "0      35\n",
       "24      1\n",
       "30      2\n",
       "38      1\n",
       "40      1\n",
       "44      4\n",
       "46      2\n",
       "48      5\n",
       "50     13\n",
       "52     11\n",
       "54     11\n",
       "55      2\n",
       "56     12\n",
       "58     21\n",
       "60     37\n",
       "61      1\n",
       "62     34\n",
       "64     43\n",
       "65      7\n",
       "66     30\n",
       "68     45\n",
       "70     57\n",
       "72     44\n",
       "74     52\n",
       "75      8\n",
       "76     39\n",
       "78     45\n",
       "80     40\n",
       "82     30\n",
       "84     23\n",
       "85      6\n",
       "86     21\n",
       "88     25\n",
       "90     22\n",
       "92      8\n",
       "94      6\n",
       "95      1\n",
       "96      4\n",
       "98      3\n",
       "100     3\n",
       "102     1\n",
       "104     2\n",
       "106     3\n",
       "108     2\n",
       "110     3\n",
       "114     1\n",
       "122     1\n",
       "dtype: int64"
      ]
     },
     "execution_count": 10,
     "metadata": {},
     "output_type": "execute_result"
    }
   ],
   "source": [
    "pres_counts"
   ]
  },
  {
   "cell_type": "code",
   "execution_count": 11,
   "metadata": {
    "collapsed": true
   },
   "outputs": [
    {
     "data": {
      "text/plain": [
       "skin\n",
       "0     227\n",
       "7       2\n",
       "8       2\n",
       "10      5\n",
       "11      6\n",
       "12      7\n",
       "13     11\n",
       "14      6\n",
       "15     14\n",
       "16      6\n",
       "17     14\n",
       "18     20\n",
       "19     18\n",
       "20     13\n",
       "21     10\n",
       "22     16\n",
       "23     22\n",
       "24     12\n",
       "25     16\n",
       "26     16\n",
       "27     23\n",
       "28     20\n",
       "29     17\n",
       "30     27\n",
       "31     19\n",
       "32     31\n",
       "33     20\n",
       "34      8\n",
       "35     15\n",
       "36     14\n",
       "37     16\n",
       "38      7\n",
       "39     18\n",
       "40     16\n",
       "41     15\n",
       "42     11\n",
       "43      6\n",
       "44      5\n",
       "45      6\n",
       "46      8\n",
       "47      4\n",
       "48      4\n",
       "49      3\n",
       "50      3\n",
       "51      1\n",
       "52      2\n",
       "54      2\n",
       "56      1\n",
       "60      1\n",
       "63      1\n",
       "99      1\n",
       "dtype: int64"
      ]
     },
     "execution_count": 11,
     "metadata": {},
     "output_type": "execute_result"
    }
   ],
   "source": [
    "skin_counts"
   ]
  },
  {
   "cell_type": "code",
   "execution_count": 12,
   "metadata": {
    "collapsed": true
   },
   "outputs": [
    {
     "data": {
      "text/plain": [
       "test\n",
       "0      374\n",
       "14       1\n",
       "15       1\n",
       "16       1\n",
       "18       2\n",
       "22       1\n",
       "23       2\n",
       "25       1\n",
       "29       1\n",
       "32       1\n",
       "36       3\n",
       "37       2\n",
       "38       1\n",
       "40       2\n",
       "41       1\n",
       "42       1\n",
       "43       1\n",
       "44       3\n",
       "45       3\n",
       "46       1\n",
       "48       3\n",
       "49       5\n",
       "50       3\n",
       "51       1\n",
       "52       1\n",
       "53       2\n",
       "54       4\n",
       "55       2\n",
       "56       5\n",
       "57       2\n",
       "      ... \n",
       "321      1\n",
       "325      3\n",
       "326      1\n",
       "328      1\n",
       "330      1\n",
       "335      1\n",
       "342      1\n",
       "360      1\n",
       "370      1\n",
       "375      1\n",
       "387      1\n",
       "392      1\n",
       "402      1\n",
       "415      1\n",
       "440      1\n",
       "465      1\n",
       "474      1\n",
       "478      1\n",
       "480      2\n",
       "485      1\n",
       "495      2\n",
       "510      1\n",
       "540      1\n",
       "543      1\n",
       "545      1\n",
       "579      1\n",
       "600      1\n",
       "680      1\n",
       "744      1\n",
       "846      1\n",
       "Length: 186, dtype: int64"
      ]
     },
     "execution_count": 12,
     "metadata": {},
     "output_type": "execute_result"
    }
   ],
   "source": [
    "test_counts"
   ]
  },
  {
   "cell_type": "code",
   "execution_count": 13,
   "metadata": {
    "collapsed": true
   },
   "outputs": [
    {
     "data": {
      "text/plain": [
       "mass\n",
       "0.0     11\n",
       "18.2     3\n",
       "18.4     1\n",
       "19.1     1\n",
       "19.3     1\n",
       "19.4     1\n",
       "19.5     2\n",
       "19.6     3\n",
       "19.9     1\n",
       "20.0     1\n",
       "20.1     1\n",
       "20.4     2\n",
       "20.8     2\n",
       "21.0     2\n",
       "21.1     4\n",
       "21.2     1\n",
       "21.7     1\n",
       "21.8     5\n",
       "21.9     3\n",
       "22.1     2\n",
       "22.2     2\n",
       "22.3     1\n",
       "22.4     2\n",
       "22.5     3\n",
       "22.6     2\n",
       "22.7     1\n",
       "22.9     2\n",
       "23.0     2\n",
       "23.1     4\n",
       "23.2     3\n",
       "        ..\n",
       "44.5     2\n",
       "44.6     1\n",
       "45.0     1\n",
       "45.2     1\n",
       "45.3     3\n",
       "45.4     1\n",
       "45.5     1\n",
       "45.6     2\n",
       "45.7     1\n",
       "45.8     1\n",
       "46.1     2\n",
       "46.2     2\n",
       "46.3     1\n",
       "46.5     1\n",
       "46.7     1\n",
       "46.8     2\n",
       "47.9     2\n",
       "48.3     1\n",
       "48.8     1\n",
       "49.3     1\n",
       "49.6     1\n",
       "49.7     1\n",
       "50.0     1\n",
       "52.3     2\n",
       "52.9     1\n",
       "53.2     1\n",
       "55.0     1\n",
       "57.3     1\n",
       "59.4     1\n",
       "67.1     1\n",
       "Length: 248, dtype: int64"
      ]
     },
     "execution_count": 13,
     "metadata": {},
     "output_type": "execute_result"
    }
   ],
   "source": [
    "mass_counts"
   ]
  },
  {
   "cell_type": "code",
   "execution_count": 14,
   "metadata": {
    "collapsed": true
   },
   "outputs": [
    {
     "data": {
      "text/plain": [
       "pedi\n",
       "0.078    1\n",
       "0.084    1\n",
       "0.085    2\n",
       "0.088    2\n",
       "0.089    1\n",
       "0.092    1\n",
       "0.096    1\n",
       "0.100    1\n",
       "0.101    1\n",
       "0.102    1\n",
       "0.107    1\n",
       "0.108    1\n",
       "0.115    1\n",
       "0.118    1\n",
       "0.121    2\n",
       "0.122    1\n",
       "0.123    1\n",
       "0.126    2\n",
       "0.127    2\n",
       "0.128    2\n",
       "0.129    2\n",
       "0.130    1\n",
       "0.133    1\n",
       "0.134    2\n",
       "0.135    1\n",
       "0.136    1\n",
       "0.137    2\n",
       "0.138    1\n",
       "0.140    2\n",
       "0.141    3\n",
       "        ..\n",
       "1.189    1\n",
       "1.191    1\n",
       "1.213    1\n",
       "1.222    1\n",
       "1.224    2\n",
       "1.251    1\n",
       "1.258    1\n",
       "1.268    1\n",
       "1.282    1\n",
       "1.292    1\n",
       "1.318    1\n",
       "1.321    1\n",
       "1.353    1\n",
       "1.390    1\n",
       "1.391    1\n",
       "1.394    1\n",
       "1.400    1\n",
       "1.441    1\n",
       "1.461    1\n",
       "1.476    1\n",
       "1.600    1\n",
       "1.698    1\n",
       "1.699    1\n",
       "1.731    1\n",
       "1.781    1\n",
       "1.893    1\n",
       "2.137    1\n",
       "2.288    1\n",
       "2.329    1\n",
       "2.420    1\n",
       "Length: 517, dtype: int64"
      ]
     },
     "execution_count": 14,
     "metadata": {},
     "output_type": "execute_result"
    }
   ],
   "source": [
    "pedi_counts"
   ]
  },
  {
   "cell_type": "code",
   "execution_count": 15,
   "metadata": {},
   "outputs": [
    {
     "data": {
      "text/plain": [
       "age\n",
       "21    63\n",
       "22    72\n",
       "23    38\n",
       "24    46\n",
       "25    48\n",
       "26    33\n",
       "27    32\n",
       "28    35\n",
       "29    29\n",
       "30    21\n",
       "31    24\n",
       "32    16\n",
       "33    17\n",
       "34    14\n",
       "35    10\n",
       "36    16\n",
       "37    19\n",
       "38    16\n",
       "39    12\n",
       "40    13\n",
       "41    22\n",
       "42    18\n",
       "43    13\n",
       "44     8\n",
       "45    15\n",
       "46    13\n",
       "47     6\n",
       "48     5\n",
       "49     5\n",
       "50     8\n",
       "51     8\n",
       "52     8\n",
       "53     5\n",
       "54     6\n",
       "55     4\n",
       "56     3\n",
       "57     5\n",
       "58     7\n",
       "59     3\n",
       "60     5\n",
       "61     2\n",
       "62     4\n",
       "63     4\n",
       "64     1\n",
       "65     3\n",
       "66     4\n",
       "67     3\n",
       "68     1\n",
       "69     2\n",
       "70     1\n",
       "72     1\n",
       "81     1\n",
       "dtype: int64"
      ]
     },
     "execution_count": 15,
     "metadata": {},
     "output_type": "execute_result"
    }
   ],
   "source": [
    "age_counts"
   ]
  },
  {
   "cell_type": "code",
   "execution_count": null,
   "metadata": {},
   "outputs": [],
   "source": []
  }
 ],
 "metadata": {
  "kernelspec": {
   "display_name": "Python 3",
   "language": "python",
   "name": "python3"
  },
  "language_info": {
   "codemirror_mode": {
    "name": "ipython",
    "version": 3
   },
   "file_extension": ".py",
   "mimetype": "text/x-python",
   "name": "python",
   "nbconvert_exporter": "python",
   "pygments_lexer": "ipython3",
   "version": "3.7.3"
  }
 },
 "nbformat": 4,
 "nbformat_minor": 2
}
